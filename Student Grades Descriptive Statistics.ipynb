{
 "cells": [
  {
   "cell_type": "code",
   "execution_count": 4,
   "id": "ffb9d19d-7b8d-4645-babd-253e039e85bd",
   "metadata": {},
   "outputs": [],
   "source": [
    "from statistics import mean, median, mode, stdev"
   ]
  },
  {
   "cell_type": "code",
   "execution_count": 20,
   "id": "f27d8975-9263-4353-9527-109676011891",
   "metadata": {},
   "outputs": [],
   "source": [
    "import pandas as pd"
   ]
  },
  {
   "cell_type": "markdown",
   "id": "a0f63866-33b7-4ed0-a0c8-027cda85af5b",
   "metadata": {},
   "source": [
    "Question 1:\r\n",
    "Consider the following midterm grades for students taking math, science, reading, and history (each grade is calculated out of a maximum of 20 points). \n",
    "\n",
    "1. Calculate the mean for each individual subject.\r",
    "2. \n",
    "Find the median grade in Math for all students.3. \r\n",
    "Calculate the mode for History.\r\n",
    " \r\n"
   ]
  },
  {
   "cell_type": "code",
   "execution_count": null,
   "id": "941a8618-6b22-4009-8115-cdcfaea6c8b3",
   "metadata": {},
   "outputs": [],
   "source": [
    "math_scores = [11 , 12, 11, 7, 9.5, 15, 18]"
   ]
  },
  {
   "cell_type": "code",
   "execution_count": 9,
   "id": "dbc04ae4-d7d0-48a9-987f-023af39e743d",
   "metadata": {},
   "outputs": [
    {
     "data": {
      "text/plain": [
       "11.928571428571429"
      ]
     },
     "execution_count": 9,
     "metadata": {},
     "output_type": "execute_result"
    }
   ],
   "source": [
    "mean(math_scores)\n"
   ]
  },
  {
   "cell_type": "code",
   "execution_count": null,
   "id": "861f9590-014c-47be-8c11-e29e7b53d9f9",
   "metadata": {},
   "outputs": [],
   "source": [
    "science_scores = [9 , 11, 18, 15.5, 12, 18.5, 15.5]"
   ]
  },
  {
   "cell_type": "code",
   "execution_count": 13,
   "id": "9d69d668-7cbf-42ae-8483-0578a97b83b6",
   "metadata": {},
   "outputs": [
    {
     "data": {
      "text/plain": [
       "14.214285714285714"
      ]
     },
     "execution_count": 13,
     "metadata": {},
     "output_type": "execute_result"
    }
   ],
   "source": [
    "mean(science_scores)\n"
   ]
  },
  {
   "cell_type": "code",
   "execution_count": null,
   "id": "c9efca84-e94d-4291-b5ab-f260b1b110f6",
   "metadata": {},
   "outputs": [],
   "source": [
    "reading_scores = [16 , 8.5, 11.5, 11, 10.5, 7, 11]"
   ]
  },
  {
   "cell_type": "code",
   "execution_count": 14,
   "id": "c282e65d-5271-41c3-b3e0-0dfb4099615d",
   "metadata": {},
   "outputs": [
    {
     "data": {
      "text/plain": [
       "10.785714285714286"
      ]
     },
     "execution_count": 14,
     "metadata": {},
     "output_type": "execute_result"
    }
   ],
   "source": [
    "mean(reading_scores)"
   ]
  },
  {
   "cell_type": "code",
   "execution_count": null,
   "id": "efb38255-96fe-41cf-8eb8-d1f2dff5392a",
   "metadata": {},
   "outputs": [],
   "source": [
    "history_scores = [13.5 , 10, 9, 14, 14, 12, 7.5]"
   ]
  },
  {
   "cell_type": "code",
   "execution_count": 15,
   "id": "0f0eb5ce-ccde-441d-982c-ef6e714f3bef",
   "metadata": {},
   "outputs": [
    {
     "data": {
      "text/plain": [
       "11.428571428571429"
      ]
     },
     "execution_count": 15,
     "metadata": {},
     "output_type": "execute_result"
    }
   ],
   "source": [
    "mean(history_scores)"
   ]
  },
  {
   "cell_type": "code",
   "execution_count": 16,
   "id": "67671d5c-d6f1-4b42-86c8-1b1093a37933",
   "metadata": {},
   "outputs": [
    {
     "data": {
      "text/plain": [
       "11"
      ]
     },
     "execution_count": 16,
     "metadata": {},
     "output_type": "execute_result"
    }
   ],
   "source": [
    "median_grade = [11 , 12, 11, 7, 9.5, 15, 18]\n",
    "median(math_scores)"
   ]
  },
  {
   "cell_type": "code",
   "execution_count": 17,
   "id": "8b085a4b-4e1b-4962-a16a-d9168261a6ab",
   "metadata": {},
   "outputs": [
    {
     "data": {
      "text/plain": [
       "14"
      ]
     },
     "execution_count": 17,
     "metadata": {},
     "output_type": "execute_result"
    }
   ],
   "source": [
    "history_scores = [13.5 , 10, 9, 14, 14, 12, 7.5]\n",
    "mode(history_scores)"
   ]
  },
  {
   "cell_type": "markdown",
   "id": "22194185-0269-4762-976c-2bd5aacd2ec8",
   "metadata": {},
   "source": [
    "Question 2:\r\n",
    "Given the following grades from Question 1, calculate the correlation between the different subjects. What two subjects have the strongest correlation?\r\n"
   ]
  },
  {
   "cell_type": "code",
   "execution_count": 26,
   "id": "efafb747-2053-4c2b-a2e6-252b9fe77e4d",
   "metadata": {},
   "outputs": [
    {
     "name": "stdout",
     "output_type": "stream",
     "text": [
      "             Math   History   Science   Reading\n",
      "Math     1.000000 -0.718358  0.269494 -0.268562\n",
      "History -0.718358  1.000000 -0.358688  0.206794\n",
      "Science  0.269494 -0.358688  1.000000 -0.527606\n",
      "Reading -0.268562  0.206794 -0.527606  1.000000\n"
     ]
    }
   ],
   "source": [
    "data = {\n",
    "  \"Math\": [11, 12,11,7,9.5,15,18],\n",
    "  \"History\": [13.5,10,9,14,14,12,7.5],\n",
    "  \"Science\": [9,11,18,15.5,12,18.5,15.5],\n",
    "  \"Reading\": [16,8.5,11.5,11,10.5,7,11],\n",
    "}\n",
    "\n",
    "df = pd.DataFrame(data)\n",
    "\n",
    "print(df.corr())\n"
   ]
  },
  {
   "cell_type": "markdown",
   "id": "6960148c-a4b2-466a-b2b6-3e9bbe3e4a4e",
   "metadata": {},
   "source": [
    "Question 3:\r\n",
    "Consider the following numbers representing the grades from the most recent exam in a math class:\r\n",
    "\r\n",
    "[24, 5, 15, 60, 54, 82, 99, 80, 70, 98, 93, 60, 33, 22, 65, 61, 51, 58, 83, 86, 42, 67, 60]\r\n",
    "\r\n",
    "Write a Python function named desc_stats() that takes a list of numbers and prints the following statistical calculations:\r\n",
    "Mean\r\n",
    "Median\r\n",
    "Mode\r\n",
    "Minimum\r\n",
    "Maximum\r\n",
    "Range\r\n",
    "Variance\r\n",
    "Standard deviation\r\n",
    "\r\n",
    "Use the  desc_stats() function to print the results of the exam scores.\r\n",
    "\r\n",
    "An example print output should look like the following (but the numbers are different):\r\n",
    "mean: 5.1\r\n",
    "median: 5\r\n",
    "mode: 3\r\n",
    "minimum: 2\r\n",
    "maximum: 8\r\n",
    "range: 6\r\n",
    "variance: 1.5\r\n",
    "standard deviation: 2\r\n",
    "\n",
    "3, 86, 42, 67, 60]\r\n",
    "desc_stats(exam_scores)\r\n",
    "\n"
   ]
  },
  {
   "cell_type": "code",
   "execution_count": 28,
   "id": "76488526-7784-433c-a67b-9145559b696b",
   "metadata": {},
   "outputs": [
    {
     "name": "stdout",
     "output_type": "stream",
     "text": [
      "Mean: 59.47826086956522\n",
      "Median: 60\n",
      "Mode: 60\n",
      "Minimum: 5\n",
      "Maximum: 99\n",
      "Range: 94\n",
      "Variance: 664.162570888469\n",
      "Standard deviation: 25.77135174740489\n"
     ]
    },
    {
     "ename": "TypeError",
     "evalue": "'function' object is not iterable",
     "output_type": "error",
     "traceback": [
      "\u001b[1;31m---------------------------------------------------------------------------\u001b[0m",
      "\u001b[1;31mTypeError\u001b[0m                                 Traceback (most recent call last)",
      "Cell \u001b[1;32mIn[28], line 4\u001b[0m\n\u001b[0;32m      1\u001b[0m desc_stats([\u001b[38;5;241m24\u001b[39m, \u001b[38;5;241m5\u001b[39m, \u001b[38;5;241m15\u001b[39m, \u001b[38;5;241m60\u001b[39m, \u001b[38;5;241m54\u001b[39m, \u001b[38;5;241m82\u001b[39m, \u001b[38;5;241m99\u001b[39m, \u001b[38;5;241m80\u001b[39m, \u001b[38;5;241m70\u001b[39m, \u001b[38;5;241m98\u001b[39m, \u001b[38;5;241m93\u001b[39m, \u001b[38;5;241m60\u001b[39m, \u001b[38;5;241m33\u001b[39m, \u001b[38;5;241m22\u001b[39m, \u001b[38;5;241m65\u001b[39m, \u001b[38;5;241m61\u001b[39m, \u001b[38;5;241m51\u001b[39m, \u001b[38;5;241m58\u001b[39m, \u001b[38;5;241m83\u001b[39m, \u001b[38;5;241m86\u001b[39m, \u001b[38;5;241m42\u001b[39m, \u001b[38;5;241m67\u001b[39m, \u001b[38;5;241m60\u001b[39m]\n\u001b[0;32m      2\u001b[0m )\n\u001b[1;32m----> 4\u001b[0m mean(desc_stats)\n\u001b[0;32m      5\u001b[0m median(desc_stats)\n\u001b[0;32m      6\u001b[0m mode(desc_stats)\n",
      "File \u001b[1;32m~\\anaconda3\\Lib\\statistics.py:430\u001b[0m, in \u001b[0;36mmean\u001b[1;34m(data)\u001b[0m\n\u001b[0;32m    414\u001b[0m \u001b[38;5;28;01mdef\u001b[39;00m \u001b[38;5;21mmean\u001b[39m(data):\n\u001b[0;32m    415\u001b[0m \u001b[38;5;250m    \u001b[39m\u001b[38;5;124;03m\"\"\"Return the sample arithmetic mean of data.\u001b[39;00m\n\u001b[0;32m    416\u001b[0m \n\u001b[0;32m    417\u001b[0m \u001b[38;5;124;03m    >>> mean([1, 2, 3, 4, 4])\u001b[39;00m\n\u001b[1;32m   (...)\u001b[0m\n\u001b[0;32m    428\u001b[0m \u001b[38;5;124;03m    If ``data`` is empty, StatisticsError will be raised.\u001b[39;00m\n\u001b[0;32m    429\u001b[0m \u001b[38;5;124;03m    \"\"\"\u001b[39;00m\n\u001b[1;32m--> 430\u001b[0m     T, total, n \u001b[38;5;241m=\u001b[39m _sum(data)\n\u001b[0;32m    431\u001b[0m     \u001b[38;5;28;01mif\u001b[39;00m n \u001b[38;5;241m<\u001b[39m \u001b[38;5;241m1\u001b[39m:\n\u001b[0;32m    432\u001b[0m         \u001b[38;5;28;01mraise\u001b[39;00m StatisticsError(\u001b[38;5;124m'\u001b[39m\u001b[38;5;124mmean requires at least one data point\u001b[39m\u001b[38;5;124m'\u001b[39m)\n",
      "File \u001b[1;32m~\\anaconda3\\Lib\\statistics.py:191\u001b[0m, in \u001b[0;36m_sum\u001b[1;34m(data)\u001b[0m\n\u001b[0;32m    189\u001b[0m partials \u001b[38;5;241m=\u001b[39m {}\n\u001b[0;32m    190\u001b[0m partials_get \u001b[38;5;241m=\u001b[39m partials\u001b[38;5;241m.\u001b[39mget\n\u001b[1;32m--> 191\u001b[0m \u001b[38;5;28;01mfor\u001b[39;00m typ, values \u001b[38;5;129;01min\u001b[39;00m groupby(data, \u001b[38;5;28mtype\u001b[39m):\n\u001b[0;32m    192\u001b[0m     types_add(typ)\n\u001b[0;32m    193\u001b[0m     \u001b[38;5;28;01mfor\u001b[39;00m n, d \u001b[38;5;129;01min\u001b[39;00m \u001b[38;5;28mmap\u001b[39m(_exact_ratio, values):\n",
      "\u001b[1;31mTypeError\u001b[0m: 'function' object is not iterable"
     ]
    }
   ],
   "source": [
    "desc_stats([24, 5, 15, 60, 54, 82, 99, 80, 70, 98, 93, 60, 33, 22, 65, 61, 51, 58, 83, 86, 42, 67, 60]\n",
    ")\n",
    "\n",
    "mean(desc_stats)\n",
    "median(desc_stats)\n",
    "mode(desc_stats)\n",
    "minimum(desc_stats)\n",
    "maximum(desc_stats)\n",
    "range(desc_stats)\n",
    "varience(desc_stats)\n",
    "standarddeviation(desc_stats)"
   ]
  },
  {
   "cell_type": "code",
   "execution_count": null,
   "id": "1bfc687d-9f10-4074-aaad-d69cb44a5747",
   "metadata": {},
   "outputs": [],
   "source": []
  }
 ],
 "metadata": {
  "kernelspec": {
   "display_name": "Python 3 (ipykernel)",
   "language": "python",
   "name": "python3"
  },
  "language_info": {
   "codemirror_mode": {
    "name": "ipython",
    "version": 3
   },
   "file_extension": ".py",
   "mimetype": "text/x-python",
   "name": "python",
   "nbconvert_exporter": "python",
   "pygments_lexer": "ipython3",
   "version": "3.11.7"
  }
 },
 "nbformat": 4,
 "nbformat_minor": 5
}
