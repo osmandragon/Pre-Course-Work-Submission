{
 "cells": [
  {
   "cell_type": "code",
   "execution_count": 35,
   "id": "2ed2cba9-69c4-4560-a325-1e517d8b6c70",
   "metadata": {},
   "outputs": [],
   "source": [
    "import pandas as pd"
   ]
  },
  {
   "cell_type": "code",
   "execution_count": 36,
   "id": "9c0b4761-5abb-4d17-9cf9-03311f448952",
   "metadata": {},
   "outputs": [],
   "source": [
    "import numpy as np"
   ]
  },
  {
   "cell_type": "markdown",
   "id": "d9e9ac41-ba42-457f-b715-ca3afb6b60c3",
   "metadata": {},
   "source": [
    "Question 1: Download and load the Ames CSV file. Read the file into a Pandas DataFrame and display the first five rows.  \n"
   ]
  },
  {
   "cell_type": "code",
   "execution_count": 37,
   "id": "3c873930-9977-4ff2-8032-dbb22a6eb70a",
   "metadata": {},
   "outputs": [],
   "source": [
    "df = pd.read_csv(r\"C:\\Osman's Folder\\Osman Nayeem\\WTA Data\\AmesHousing.csv\")"
   ]
  },
  {
   "cell_type": "code",
   "execution_count": 38,
   "id": "b35a32af-77d1-4511-81a6-93f638bd6966",
   "metadata": {},
   "outputs": [
    {
     "data": {
      "text/html": [
       "<div>\n",
       "<style scoped>\n",
       "    .dataframe tbody tr th:only-of-type {\n",
       "        vertical-align: middle;\n",
       "    }\n",
       "\n",
       "    .dataframe tbody tr th {\n",
       "        vertical-align: top;\n",
       "    }\n",
       "\n",
       "    .dataframe thead th {\n",
       "        text-align: right;\n",
       "    }\n",
       "</style>\n",
       "<table border=\"1\" class=\"dataframe\">\n",
       "  <thead>\n",
       "    <tr style=\"text-align: right;\">\n",
       "      <th></th>\n",
       "      <th>Order</th>\n",
       "      <th>PID</th>\n",
       "      <th>MS SubClass</th>\n",
       "      <th>MS Zoning</th>\n",
       "      <th>Lot Frontage</th>\n",
       "      <th>Lot Area</th>\n",
       "      <th>Street</th>\n",
       "      <th>Alley</th>\n",
       "      <th>Lot Shape</th>\n",
       "      <th>Land Contour</th>\n",
       "      <th>...</th>\n",
       "      <th>Pool Area</th>\n",
       "      <th>Pool QC</th>\n",
       "      <th>Fence</th>\n",
       "      <th>Misc Feature</th>\n",
       "      <th>Misc Val</th>\n",
       "      <th>Mo Sold</th>\n",
       "      <th>Yr Sold</th>\n",
       "      <th>Sale Type</th>\n",
       "      <th>Sale Condition</th>\n",
       "      <th>SalePrice</th>\n",
       "    </tr>\n",
       "  </thead>\n",
       "  <tbody>\n",
       "    <tr>\n",
       "      <th>0</th>\n",
       "      <td>1</td>\n",
       "      <td>526301100</td>\n",
       "      <td>20</td>\n",
       "      <td>RL</td>\n",
       "      <td>141.0</td>\n",
       "      <td>31770</td>\n",
       "      <td>Pave</td>\n",
       "      <td>NaN</td>\n",
       "      <td>IR1</td>\n",
       "      <td>Lvl</td>\n",
       "      <td>...</td>\n",
       "      <td>0</td>\n",
       "      <td>NaN</td>\n",
       "      <td>NaN</td>\n",
       "      <td>NaN</td>\n",
       "      <td>0</td>\n",
       "      <td>5</td>\n",
       "      <td>2010</td>\n",
       "      <td>WD</td>\n",
       "      <td>Normal</td>\n",
       "      <td>215000</td>\n",
       "    </tr>\n",
       "    <tr>\n",
       "      <th>1</th>\n",
       "      <td>2</td>\n",
       "      <td>526350040</td>\n",
       "      <td>20</td>\n",
       "      <td>RH</td>\n",
       "      <td>80.0</td>\n",
       "      <td>11622</td>\n",
       "      <td>Pave</td>\n",
       "      <td>NaN</td>\n",
       "      <td>Reg</td>\n",
       "      <td>Lvl</td>\n",
       "      <td>...</td>\n",
       "      <td>0</td>\n",
       "      <td>NaN</td>\n",
       "      <td>MnPrv</td>\n",
       "      <td>NaN</td>\n",
       "      <td>0</td>\n",
       "      <td>6</td>\n",
       "      <td>2010</td>\n",
       "      <td>WD</td>\n",
       "      <td>Normal</td>\n",
       "      <td>105000</td>\n",
       "    </tr>\n",
       "    <tr>\n",
       "      <th>2</th>\n",
       "      <td>3</td>\n",
       "      <td>526351010</td>\n",
       "      <td>20</td>\n",
       "      <td>RL</td>\n",
       "      <td>81.0</td>\n",
       "      <td>14267</td>\n",
       "      <td>Pave</td>\n",
       "      <td>NaN</td>\n",
       "      <td>IR1</td>\n",
       "      <td>Lvl</td>\n",
       "      <td>...</td>\n",
       "      <td>0</td>\n",
       "      <td>NaN</td>\n",
       "      <td>NaN</td>\n",
       "      <td>Gar2</td>\n",
       "      <td>12500</td>\n",
       "      <td>6</td>\n",
       "      <td>2010</td>\n",
       "      <td>WD</td>\n",
       "      <td>Normal</td>\n",
       "      <td>172000</td>\n",
       "    </tr>\n",
       "    <tr>\n",
       "      <th>3</th>\n",
       "      <td>4</td>\n",
       "      <td>526353030</td>\n",
       "      <td>20</td>\n",
       "      <td>RL</td>\n",
       "      <td>93.0</td>\n",
       "      <td>11160</td>\n",
       "      <td>Pave</td>\n",
       "      <td>NaN</td>\n",
       "      <td>Reg</td>\n",
       "      <td>Lvl</td>\n",
       "      <td>...</td>\n",
       "      <td>0</td>\n",
       "      <td>NaN</td>\n",
       "      <td>NaN</td>\n",
       "      <td>NaN</td>\n",
       "      <td>0</td>\n",
       "      <td>4</td>\n",
       "      <td>2010</td>\n",
       "      <td>WD</td>\n",
       "      <td>Normal</td>\n",
       "      <td>244000</td>\n",
       "    </tr>\n",
       "    <tr>\n",
       "      <th>4</th>\n",
       "      <td>5</td>\n",
       "      <td>527105010</td>\n",
       "      <td>60</td>\n",
       "      <td>RL</td>\n",
       "      <td>74.0</td>\n",
       "      <td>13830</td>\n",
       "      <td>Pave</td>\n",
       "      <td>NaN</td>\n",
       "      <td>IR1</td>\n",
       "      <td>Lvl</td>\n",
       "      <td>...</td>\n",
       "      <td>0</td>\n",
       "      <td>NaN</td>\n",
       "      <td>MnPrv</td>\n",
       "      <td>NaN</td>\n",
       "      <td>0</td>\n",
       "      <td>3</td>\n",
       "      <td>2010</td>\n",
       "      <td>WD</td>\n",
       "      <td>Normal</td>\n",
       "      <td>189900</td>\n",
       "    </tr>\n",
       "    <tr>\n",
       "      <th>5</th>\n",
       "      <td>6</td>\n",
       "      <td>527105030</td>\n",
       "      <td>60</td>\n",
       "      <td>RL</td>\n",
       "      <td>78.0</td>\n",
       "      <td>9978</td>\n",
       "      <td>Pave</td>\n",
       "      <td>NaN</td>\n",
       "      <td>IR1</td>\n",
       "      <td>Lvl</td>\n",
       "      <td>...</td>\n",
       "      <td>0</td>\n",
       "      <td>NaN</td>\n",
       "      <td>NaN</td>\n",
       "      <td>NaN</td>\n",
       "      <td>0</td>\n",
       "      <td>6</td>\n",
       "      <td>2010</td>\n",
       "      <td>WD</td>\n",
       "      <td>Normal</td>\n",
       "      <td>195500</td>\n",
       "    </tr>\n",
       "  </tbody>\n",
       "</table>\n",
       "<p>6 rows × 82 columns</p>\n",
       "</div>"
      ],
      "text/plain": [
       "   Order        PID  MS SubClass MS Zoning  Lot Frontage  Lot Area Street  \\\n",
       "0      1  526301100           20        RL         141.0     31770   Pave   \n",
       "1      2  526350040           20        RH          80.0     11622   Pave   \n",
       "2      3  526351010           20        RL          81.0     14267   Pave   \n",
       "3      4  526353030           20        RL          93.0     11160   Pave   \n",
       "4      5  527105010           60        RL          74.0     13830   Pave   \n",
       "5      6  527105030           60        RL          78.0      9978   Pave   \n",
       "\n",
       "  Alley Lot Shape Land Contour  ... Pool Area Pool QC  Fence Misc Feature  \\\n",
       "0   NaN       IR1          Lvl  ...         0     NaN    NaN          NaN   \n",
       "1   NaN       Reg          Lvl  ...         0     NaN  MnPrv          NaN   \n",
       "2   NaN       IR1          Lvl  ...         0     NaN    NaN         Gar2   \n",
       "3   NaN       Reg          Lvl  ...         0     NaN    NaN          NaN   \n",
       "4   NaN       IR1          Lvl  ...         0     NaN  MnPrv          NaN   \n",
       "5   NaN       IR1          Lvl  ...         0     NaN    NaN          NaN   \n",
       "\n",
       "  Misc Val Mo Sold Yr Sold Sale Type  Sale Condition  SalePrice  \n",
       "0        0       5    2010       WD           Normal     215000  \n",
       "1        0       6    2010       WD           Normal     105000  \n",
       "2    12500       6    2010       WD           Normal     172000  \n",
       "3        0       4    2010       WD           Normal     244000  \n",
       "4        0       3    2010       WD           Normal     189900  \n",
       "5        0       6    2010       WD           Normal     195500  \n",
       "\n",
       "[6 rows x 82 columns]"
      ]
     },
     "execution_count": 38,
     "metadata": {},
     "output_type": "execute_result"
    }
   ],
   "source": [
    "df.head(6)"
   ]
  },
  {
   "cell_type": "markdown",
   "id": "5d39ef14-dffa-4df2-88d3-0b0ba7582013",
   "metadata": {},
   "source": [
    "Question 2: Print the highest and lowest priced homes in Ames.\r\n"
   ]
  },
  {
   "cell_type": "code",
   "execution_count": 50,
   "id": "cfc2e80f-fb4b-43c9-aa4b-e5028bd082c6",
   "metadata": {},
   "outputs": [
    {
     "ename": "NameError",
     "evalue": "name 'broken_housing_df' is not defined",
     "output_type": "error",
     "traceback": [
      "\u001b[1;31m---------------------------------------------------------------------------\u001b[0m",
      "\u001b[1;31mNameError\u001b[0m                                 Traceback (most recent call last)",
      "Cell \u001b[1;32mIn[50], line 1\u001b[0m\n\u001b[1;32m----> 1\u001b[0m broken_housing_df\u001b[38;5;241m.\u001b[39mshape\n",
      "\u001b[1;31mNameError\u001b[0m: name 'broken_housing_df' is not defined"
     ]
    }
   ],
   "source": [
    "broken_housing_df.shape"
   ]
  },
  {
   "cell_type": "code",
   "execution_count": 46,
   "id": "3ba52ec9-40fd-43f0-99fb-8dc256a0aeb3",
   "metadata": {},
   "outputs": [
    {
     "ename": "NameError",
     "evalue": "name 'broken_housing_df' is not defined",
     "output_type": "error",
     "traceback": [
      "\u001b[1;31m---------------------------------------------------------------------------\u001b[0m",
      "\u001b[1;31mNameError\u001b[0m                                 Traceback (most recent call last)",
      "Cell \u001b[1;32mIn[46], line 1\u001b[0m\n\u001b[1;32m----> 1\u001b[0m broken_housing_df\u001b[38;5;241m.\u001b[39mdescribe()\n",
      "\u001b[1;31mNameError\u001b[0m: name 'broken_housing_df' is not defined"
     ]
    }
   ],
   "source": [
    "broken_housing_df.describe("
   ]
  },
  {
   "cell_type": "markdown",
   "id": "017800eb-7c96-4faf-9e43-86eee8f4662e",
   "metadata": {},
   "source": [
    "Question 3:  How many categories does lot size have? \n"
   ]
  },
  {
   "cell_type": "code",
   "execution_count": 12,
   "id": "c7aff3c1-f264-4e66-aa9f-4e9ae34cd691",
   "metadata": {},
   "outputs": [],
   "source": [
    "counts = df.groupby(['Lot Frontage', 'Lot Area', 'Lot Shape']).size()"
   ]
  },
  {
   "cell_type": "code",
   "execution_count": 13,
   "id": "994459bb-2e42-4713-86e9-c5167e392d98",
   "metadata": {},
   "outputs": [
    {
     "name": "stdout",
     "output_type": "stream",
     "text": [
      "Lot Frontage  Lot Area  Lot Shape\n",
      "21.0          1470      Reg          1\n",
      "              1476      Reg          1\n",
      "              1477      Reg          2\n",
      "              1484      Reg          1\n",
      "              1491      Reg          1\n",
      "                                    ..\n",
      "182.0         14572     IR3          1\n",
      "195.0         41600     IR1          1\n",
      "200.0         43500     Reg          1\n",
      "313.0         27650     IR2          1\n",
      "              63887     IR3          1\n",
      "Length: 1800, dtype: int64\n"
     ]
    }
   ],
   "source": [
    "print(counts)"
   ]
  },
  {
   "cell_type": "markdown",
   "id": "af79c049-ee5a-49ca-bf3c-b1584c7f8c64",
   "metadata": {},
   "source": [
    "Question 4:  What is the range of years for the house listings in the data? \n"
   ]
  },
  {
   "cell_type": "code",
   "execution_count": 20,
   "id": "74081fb1-8033-459a-9902-8e372f0a79c5",
   "metadata": {},
   "outputs": [
    {
     "name": "stdout",
     "output_type": "stream",
     "text": [
      "DatetimeIndex(['2010-01-01'], dtype='datetime64[ns]', freq='D')\n"
     ]
    }
   ],
   "source": [
    "start_date = '2010'  \n",
    "end_date = '2010'  \n",
    "date_range = pd.date_range(start=start_date, end=end_date)\n",
    "\n",
    "print(date_range)\n"
   ]
  },
  {
   "cell_type": "markdown",
   "id": "d3e417d2-c759-462e-92b0-3b456f1a2b70",
   "metadata": {},
   "source": [
    "Question 5:  What is the total number of all homes sold in Ames for all years? \n"
   ]
  },
  {
   "cell_type": "code",
   "execution_count": 43,
   "id": "f5d29187-07d6-4089-95d8-265fb6ba5fe0",
   "metadata": {},
   "outputs": [
    {
     "name": "stdout",
     "output_type": "stream",
     "text": [
      "Maximum SalePrice: 755000\n"
     ]
    }
   ],
   "source": [
    "max_SalePrice = df['SalePrice'].max()\n",
    "print('Maximum SalePrice:', max_SalePrice)"
   ]
  },
  {
   "cell_type": "markdown",
   "id": "c2633b18-ff39-4dd9-8c62-26ea23af8e7e",
   "metadata": {},
   "source": [
    "Question 6:  How many nulls or NA are there in the Lot Frontage column? \n"
   ]
  },
  {
   "cell_type": "code",
   "execution_count": 22,
   "id": "0958082a-ed28-44dd-a4c5-ee115e359507",
   "metadata": {},
   "outputs": [
    {
     "name": "stdout",
     "output_type": "stream",
     "text": [
      "Number of null values: 15749\n"
     ]
    }
   ],
   "source": [
    "null_count = df.isnull().sum().sum()\n",
    "print('Number of null values:', null_count)"
   ]
  },
  {
   "cell_type": "markdown",
   "id": "1516f2b9-9d74-4322-ae8c-948aa76ef685",
   "metadata": {},
   "source": [
    "Question 7:  How many items have a value in Alley and what is the total number of  NA in the column? \n"
   ]
  },
  {
   "cell_type": "code",
   "execution_count": 42,
   "id": "b7809338-dbff-4678-a2ed-53b08fe42a5e",
   "metadata": {},
   "outputs": [
    {
     "data": {
      "text/plain": [
       "0"
      ]
     },
     "execution_count": 42,
     "metadata": {},
     "output_type": "execute_result"
    }
   ],
   "source": [
    "df[df.Alley == 'NA'].shape[0]"
   ]
  },
  {
   "cell_type": "markdown",
   "id": "4eaa4282-b967-46e4-b4cd-7c5887d6f4b5",
   "metadata": {},
   "source": [
    "Question 8: What are all the homes in Gilbert with Yr Sold being 2009 and 2010?\n"
   ]
  },
  {
   "cell_type": "code",
   "execution_count": null,
   "id": "8ef08540-9f01-4a8c-a94f-bfe0b71de90e",
   "metadata": {},
   "outputs": [],
   "source": []
  }
 ],
 "metadata": {
  "kernelspec": {
   "display_name": "Python 3 (ipykernel)",
   "language": "python",
   "name": "python3"
  },
  "language_info": {
   "codemirror_mode": {
    "name": "ipython",
    "version": 3
   },
   "file_extension": ".py",
   "mimetype": "text/x-python",
   "name": "python",
   "nbconvert_exporter": "python",
   "pygments_lexer": "ipython3",
   "version": "3.11.7"
  }
 },
 "nbformat": 4,
 "nbformat_minor": 5
}
