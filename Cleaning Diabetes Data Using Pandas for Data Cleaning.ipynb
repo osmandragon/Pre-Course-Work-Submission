{
 "cells": [
  {
   "cell_type": "code",
   "execution_count": null,
   "id": "8849125a-2adc-4c13-95bb-d9f47623d7c6",
   "metadata": {},
   "outputs": [],
   "source": [
    "import pandas as pd\n",
    "import numpy as np\n",
    "from IPython.display import display"
   ]
  },
  {
   "cell_type": "code",
   "execution_count": 3,
   "id": "21b2591c-b43c-4b79-81ab-87c19ee2b73f",
   "metadata": {},
   "outputs": [],
   "source": [
    "df = pd.read_csv(r\"C:\\Users\\osman\\PycharmProjects\\diabetes_uncleaned_data.csv\")"
   ]
  },
  {
   "cell_type": "code",
   "execution_count": 8,
   "id": "9b0db562-7401-4f55-8cdc-a50338e6c8f0",
   "metadata": {},
   "outputs": [
    {
     "data": {
      "text/html": [
       "<div>\n",
       "<style scoped>\n",
       "    .dataframe tbody tr th:only-of-type {\n",
       "        vertical-align: middle;\n",
       "    }\n",
       "\n",
       "    .dataframe tbody tr th {\n",
       "        vertical-align: top;\n",
       "    }\n",
       "\n",
       "    .dataframe thead th {\n",
       "        text-align: right;\n",
       "    }\n",
       "</style>\n",
       "<table border=\"1\" class=\"dataframe\">\n",
       "  <thead>\n",
       "    <tr style=\"text-align: right;\">\n",
       "      <th></th>\n",
       "      <th>Pregnancies</th>\n",
       "      <th>Glucose</th>\n",
       "      <th>BloodPressure</th>\n",
       "      <th>SkinThickness</th>\n",
       "      <th>Insulin</th>\n",
       "      <th>BMI</th>\n",
       "      <th>DiabetesPedigreeFunction</th>\n",
       "      <th>Age</th>\n",
       "      <th>Outcome</th>\n",
       "    </tr>\n",
       "  </thead>\n",
       "  <tbody>\n",
       "    <tr>\n",
       "      <th>0</th>\n",
       "      <td>3.0</td>\n",
       "      <td>167.0</td>\n",
       "      <td>39</td>\n",
       "      <td>28</td>\n",
       "      <td>545</td>\n",
       "      <td>53.0</td>\n",
       "      <td>2.447</td>\n",
       "      <td>125.0</td>\n",
       "      <td>FALSE</td>\n",
       "    </tr>\n",
       "    <tr>\n",
       "      <th>1</th>\n",
       "      <td>13.0</td>\n",
       "      <td>151.0</td>\n",
       "      <td>107</td>\n",
       "      <td>38</td>\n",
       "      <td>10000</td>\n",
       "      <td>9.2</td>\n",
       "      <td>0.507</td>\n",
       "      <td>148.0</td>\n",
       "      <td>FALSE</td>\n",
       "    </tr>\n",
       "    <tr>\n",
       "      <th>2</th>\n",
       "      <td>8.0</td>\n",
       "      <td>59.0</td>\n",
       "      <td>109</td>\n",
       "      <td>18</td>\n",
       "      <td>739</td>\n",
       "      <td>59.1</td>\n",
       "      <td>1.769</td>\n",
       "      <td>91.0</td>\n",
       "      <td>TRUE</td>\n",
       "    </tr>\n",
       "    <tr>\n",
       "      <th>3</th>\n",
       "      <td>11.0</td>\n",
       "      <td>132.0</td>\n",
       "      <td>83</td>\n",
       "      <td>11</td>\n",
       "      <td>376</td>\n",
       "      <td>4.1</td>\n",
       "      <td>2.772</td>\n",
       "      <td>NaN</td>\n",
       "      <td>TRUE</td>\n",
       "    </tr>\n",
       "    <tr>\n",
       "      <th>4</th>\n",
       "      <td>10.0</td>\n",
       "      <td>165.0</td>\n",
       "      <td>48</td>\n",
       "      <td>37</td>\n",
       "      <td>737</td>\n",
       "      <td>39.4</td>\n",
       "      <td>0.729</td>\n",
       "      <td>73.0</td>\n",
       "      <td>FALSE</td>\n",
       "    </tr>\n",
       "    <tr>\n",
       "      <th>5</th>\n",
       "      <td>-100.0</td>\n",
       "      <td>142.0</td>\n",
       "      <td>88</td>\n",
       "      <td>39</td>\n",
       "      <td>82</td>\n",
       "      <td>42.7</td>\n",
       "      <td>1.369</td>\n",
       "      <td>148.0</td>\n",
       "      <td>TRUE</td>\n",
       "    </tr>\n",
       "    <tr>\n",
       "      <th>6</th>\n",
       "      <td>6.0</td>\n",
       "      <td>151.0</td>\n",
       "      <td>60</td>\n",
       "      <td>26</td>\n",
       "      <td>362</td>\n",
       "      <td>43.4</td>\n",
       "      <td>2.027</td>\n",
       "      <td>23.0</td>\n",
       "      <td>FALSE</td>\n",
       "    </tr>\n",
       "    <tr>\n",
       "      <th>7</th>\n",
       "      <td>0.0</td>\n",
       "      <td>179.0</td>\n",
       "      <td>0</td>\n",
       "      <td>19</td>\n",
       "      <td>238</td>\n",
       "      <td>47.7</td>\n",
       "      <td>2.656</td>\n",
       "      <td>77.0</td>\n",
       "      <td>FALSE</td>\n",
       "    </tr>\n",
       "    <tr>\n",
       "      <th>8</th>\n",
       "      <td>11.0</td>\n",
       "      <td>31.0</td>\n",
       "      <td>38</td>\n",
       "      <td>50</td>\n",
       "      <td>455</td>\n",
       "      <td>38.4</td>\n",
       "      <td>0.089</td>\n",
       "      <td>115.0</td>\n",
       "      <td>FALSE</td>\n",
       "    </tr>\n",
       "    <tr>\n",
       "      <th>9</th>\n",
       "      <td>13.0</td>\n",
       "      <td>151.0</td>\n",
       "      <td>73</td>\n",
       "      <td>42</td>\n",
       "      <td>662</td>\n",
       "      <td>23.3</td>\n",
       "      <td>0.902</td>\n",
       "      <td>36.0</td>\n",
       "      <td>FALSE</td>\n",
       "    </tr>\n",
       "    <tr>\n",
       "      <th>10</th>\n",
       "      <td>4.0</td>\n",
       "      <td>51.0</td>\n",
       "      <td>59</td>\n",
       "      <td>23</td>\n",
       "      <td>649</td>\n",
       "      <td>20.9</td>\n",
       "      <td>2.329</td>\n",
       "      <td>32.0</td>\n",
       "      <td>TRUE</td>\n",
       "    </tr>\n",
       "  </tbody>\n",
       "</table>\n",
       "</div>"
      ],
      "text/plain": [
       "    Pregnancies  Glucose BloodPressure  SkinThickness  Insulin   BMI  \\\n",
       "0           3.0    167.0            39             28      545  53.0   \n",
       "1          13.0    151.0           107             38    10000   9.2   \n",
       "2           8.0     59.0           109             18      739  59.1   \n",
       "3          11.0    132.0            83             11      376   4.1   \n",
       "4          10.0    165.0            48             37      737  39.4   \n",
       "5        -100.0    142.0            88             39       82  42.7   \n",
       "6           6.0    151.0            60             26      362  43.4   \n",
       "7           0.0    179.0             0             19      238  47.7   \n",
       "8          11.0     31.0            38             50      455  38.4   \n",
       "9          13.0    151.0            73             42      662  23.3   \n",
       "10          4.0     51.0            59             23      649  20.9   \n",
       "\n",
       "    DiabetesPedigreeFunction    Age Outcome  \n",
       "0                      2.447  125.0   FALSE  \n",
       "1                      0.507  148.0   FALSE  \n",
       "2                      1.769   91.0    TRUE  \n",
       "3                      2.772    NaN    TRUE  \n",
       "4                      0.729   73.0   FALSE  \n",
       "5                      1.369  148.0    TRUE  \n",
       "6                      2.027   23.0   FALSE  \n",
       "7                      2.656   77.0   FALSE  \n",
       "8                      0.089  115.0   FALSE  \n",
       "9                      0.902   36.0   FALSE  \n",
       "10                     2.329   32.0    TRUE  "
      ]
     },
     "execution_count": 8,
     "metadata": {},
     "output_type": "execute_result"
    }
   ],
   "source": [
    "df.head(11)"
   ]
  },
  {
   "cell_type": "markdown",
   "id": "7daaf259-d84f-479e-b925-ddd8f06a58de",
   "metadata": {},
   "source": [
    "Part 2: Missing Data "
   ]
  },
  {
   "cell_type": "markdown",
   "id": "6fd9616d-1117-4688-a67b-22ed8ed0bdc2",
   "metadata": {},
   "source": [
    "Question 1:  In your Jupyter Notebook, find columns with missing data.\n"
   ]
  },
  {
   "cell_type": "code",
   "execution_count": 9,
   "id": "aeb6c08a-6921-463f-b5c5-e4481e03dfc5",
   "metadata": {},
   "outputs": [
    {
     "name": "stdout",
     "output_type": "stream",
     "text": [
      "      Pregnancies  Glucose  BloodPressure  SkinThickness  Insulin    BMI  \\\n",
      "0           False    False          False          False    False  False   \n",
      "1           False    False          False          False    False  False   \n",
      "2           False    False          False          False    False  False   \n",
      "3           False    False          False          False    False  False   \n",
      "4           False    False          False          False    False  False   \n",
      "...           ...      ...            ...            ...      ...    ...   \n",
      "999         False    False          False          False    False  False   \n",
      "1000        False     True          False          False    False  False   \n",
      "1001        False    False          False          False    False  False   \n",
      "1002        False    False          False          False    False  False   \n",
      "1003        False    False          False          False    False  False   \n",
      "\n",
      "      DiabetesPedigreeFunction    Age  Outcome  \n",
      "0                        False  False    False  \n",
      "1                        False  False    False  \n",
      "2                        False  False    False  \n",
      "3                        False   True    False  \n",
      "4                        False  False    False  \n",
      "...                        ...    ...      ...  \n",
      "999                      False  False    False  \n",
      "1000                     False  False    False  \n",
      "1001                     False  False    False  \n",
      "1002                     False  False    False  \n",
      "1003                     False  False    False  \n",
      "\n",
      "[1004 rows x 9 columns]\n"
     ]
    }
   ],
   "source": [
    "print(df.isnull())"
   ]
  },
  {
   "cell_type": "markdown",
   "id": "c3f58742-b36d-4129-a6c0-918c18d15088",
   "metadata": {},
   "source": [
    "Question 2:  Write code to remove rows with missing data and save the new dataframe as pima_missing_fixed_df.\n"
   ]
  },
  {
   "cell_type": "code",
   "execution_count": 15,
   "id": "f3c73082-63c7-4ac6-a50b-7376468486ba",
   "metadata": {},
   "outputs": [
    {
     "name": "stdout",
     "output_type": "stream",
     "text": [
      "      Pregnancies  Glucose BloodPressure  SkinThickness  Insulin   BMI  \\\n",
      "0             3.0    167.0            39             28      545  53.0   \n",
      "1            13.0    151.0           107             38    10000   9.2   \n",
      "2             8.0     59.0           109             18      739  59.1   \n",
      "4            10.0    165.0            48             37      737  39.4   \n",
      "5          -100.0    142.0            88             39       82  42.7   \n",
      "...           ...      ...           ...            ...      ...   ...   \n",
      "998           6.0    110.0            26             27      590  20.8   \n",
      "999           6.0    110.0            26             27      590  20.8   \n",
      "1001          4.0     80.0            24              6      268  48.9   \n",
      "1002          3.0    142.0         Error             10      299   4.8   \n",
      "1003          6.0    151.0            60             26      362  43.4   \n",
      "\n",
      "      DiabetesPedigreeFunction    Age Outcome  \n",
      "0                        2.447  125.0   FALSE  \n",
      "1                        0.507  148.0   FALSE  \n",
      "2                        1.769   91.0    TRUE  \n",
      "4                        0.729   73.0   FALSE  \n",
      "5                        1.369  148.0    TRUE  \n",
      "...                        ...    ...     ...  \n",
      "998                      1.185   95.0   FALSE  \n",
      "999                      1.185   95.0   FALSE  \n",
      "1001                     0.989   81.0    TRUE  \n",
      "1002                     2.411   71.0    TRUE  \n",
      "1003                     2.027   23.0   FALSE  \n",
      "\n",
      "[840 rows x 9 columns]\n"
     ]
    }
   ],
   "source": [
    "df.dropna(subset=['Pregnancies','Glucose','BloodPressure', 'SkinThickness','Insulin','BMI', 'DiabetesPedigreeFunction','Age','Outcome' ], inplace=True)\n",
    "print(df)"
   ]
  },
  {
   "cell_type": "markdown",
   "id": "9f9d42ed-ac7f-4d58-bf7b-4236fff8544a",
   "metadata": {},
   "source": [
    "Question 3:  Print out the number of rows in the dataframe.\n"
   ]
  },
  {
   "cell_type": "code",
   "execution_count": 17,
   "id": "1d9ef32a-9259-42e2-af34-397ad192b8e9",
   "metadata": {},
   "outputs": [
    {
     "name": "stdout",
     "output_type": "stream",
     "text": [
      "The DataFrame has 840 rows.\n"
     ]
    }
   ],
   "source": [
    "row_count = len(df)\n",
    "print(f'The DataFrame has {row_count} rows.')"
   ]
  },
  {
   "cell_type": "markdown",
   "id": "d8124d16-b242-42c6-a2aa-f2b340b09353",
   "metadata": {},
   "source": [
    "Question 4:  In your jupyter notebook, discuss why this could be a problem.  What other methods could you use in this situation? \n"
   ]
  },
  {
   "cell_type": "markdown",
   "id": "6bd50abc-566a-4bd1-a067-6f290ddd20fe",
   "metadata": {},
   "source": [
    "This could be a problem becuase having missing data will lead to innacurate analysis results which is something a data anaylist wants to avoid at all costs."
   ]
  },
  {
   "cell_type": "markdown",
   "id": "c080880f-1691-472f-b3f7-f645b08179fc",
   "metadata": {},
   "source": [
    "Part 3:  Duplicated Data\n"
   ]
  },
  {
   "cell_type": "markdown",
   "id": "aede46e8-dbc7-4fc0-af8d-09d317acd77f",
   "metadata": {},
   "source": [
    "Question 1:  In your Jupyter Notebook, find the rows of duplicated data in the pima_missing_fixed_df and print them.  "
   ]
  },
  {
   "cell_type": "code",
   "execution_count": 25,
   "id": "4893890c-c13a-423f-816f-f4442d6142d4",
   "metadata": {},
   "outputs": [
    {
     "name": "stdout",
     "output_type": "stream",
     "text": [
      "0       False\n",
      "1       False\n",
      "2       False\n",
      "4       False\n",
      "5       False\n",
      "        ...  \n",
      "998     False\n",
      "999      True\n",
      "1001    False\n",
      "1002    False\n",
      "1003     True\n",
      "Length: 840, dtype: bool\n"
     ]
    }
   ],
   "source": [
    "duplicate_rows = df.duplicated()\n",
    "print(duplicate_rows)"
   ]
  },
  {
   "cell_type": "markdown",
   "id": "63689a42-ce46-4615-8451-cd3124ec1681",
   "metadata": {},
   "source": [
    "Question 2:  Write code to remove the duplicate rows and save the new dataframe as pima_dedupped_df\n"
   ]
  },
  {
   "cell_type": "code",
   "execution_count": 27,
   "id": "3ab87a00-f2e2-44dd-8ca5-e119a7110ea1",
   "metadata": {},
   "outputs": [
    {
     "data": {
      "text/html": [
       "<div>\n",
       "<style scoped>\n",
       "    .dataframe tbody tr th:only-of-type {\n",
       "        vertical-align: middle;\n",
       "    }\n",
       "\n",
       "    .dataframe tbody tr th {\n",
       "        vertical-align: top;\n",
       "    }\n",
       "\n",
       "    .dataframe thead th {\n",
       "        text-align: right;\n",
       "    }\n",
       "</style>\n",
       "<table border=\"1\" class=\"dataframe\">\n",
       "  <thead>\n",
       "    <tr style=\"text-align: right;\">\n",
       "      <th></th>\n",
       "      <th>Pregnancies</th>\n",
       "      <th>Glucose</th>\n",
       "      <th>BloodPressure</th>\n",
       "      <th>SkinThickness</th>\n",
       "      <th>Insulin</th>\n",
       "      <th>BMI</th>\n",
       "      <th>DiabetesPedigreeFunction</th>\n",
       "      <th>Age</th>\n",
       "      <th>Outcome</th>\n",
       "    </tr>\n",
       "  </thead>\n",
       "  <tbody>\n",
       "    <tr>\n",
       "      <th>0</th>\n",
       "      <td>3.0</td>\n",
       "      <td>167.0</td>\n",
       "      <td>39</td>\n",
       "      <td>28</td>\n",
       "      <td>545</td>\n",
       "      <td>53.0</td>\n",
       "      <td>2.447</td>\n",
       "      <td>125.0</td>\n",
       "      <td>FALSE</td>\n",
       "    </tr>\n",
       "    <tr>\n",
       "      <th>1</th>\n",
       "      <td>13.0</td>\n",
       "      <td>151.0</td>\n",
       "      <td>107</td>\n",
       "      <td>38</td>\n",
       "      <td>10000</td>\n",
       "      <td>9.2</td>\n",
       "      <td>0.507</td>\n",
       "      <td>148.0</td>\n",
       "      <td>FALSE</td>\n",
       "    </tr>\n",
       "    <tr>\n",
       "      <th>2</th>\n",
       "      <td>8.0</td>\n",
       "      <td>59.0</td>\n",
       "      <td>109</td>\n",
       "      <td>18</td>\n",
       "      <td>739</td>\n",
       "      <td>59.1</td>\n",
       "      <td>1.769</td>\n",
       "      <td>91.0</td>\n",
       "      <td>TRUE</td>\n",
       "    </tr>\n",
       "    <tr>\n",
       "      <th>4</th>\n",
       "      <td>10.0</td>\n",
       "      <td>165.0</td>\n",
       "      <td>48</td>\n",
       "      <td>37</td>\n",
       "      <td>737</td>\n",
       "      <td>39.4</td>\n",
       "      <td>0.729</td>\n",
       "      <td>73.0</td>\n",
       "      <td>FALSE</td>\n",
       "    </tr>\n",
       "    <tr>\n",
       "      <th>5</th>\n",
       "      <td>-100.0</td>\n",
       "      <td>142.0</td>\n",
       "      <td>88</td>\n",
       "      <td>39</td>\n",
       "      <td>82</td>\n",
       "      <td>42.7</td>\n",
       "      <td>1.369</td>\n",
       "      <td>148.0</td>\n",
       "      <td>TRUE</td>\n",
       "    </tr>\n",
       "    <tr>\n",
       "      <th>...</th>\n",
       "      <td>...</td>\n",
       "      <td>...</td>\n",
       "      <td>...</td>\n",
       "      <td>...</td>\n",
       "      <td>...</td>\n",
       "      <td>...</td>\n",
       "      <td>...</td>\n",
       "      <td>...</td>\n",
       "      <td>...</td>\n",
       "    </tr>\n",
       "    <tr>\n",
       "      <th>996</th>\n",
       "      <td>6.0</td>\n",
       "      <td>117.0</td>\n",
       "      <td>91</td>\n",
       "      <td>28</td>\n",
       "      <td>212</td>\n",
       "      <td>1.0</td>\n",
       "      <td>1.969</td>\n",
       "      <td>137.0</td>\n",
       "      <td>FALSE</td>\n",
       "    </tr>\n",
       "    <tr>\n",
       "      <th>997</th>\n",
       "      <td>13.0</td>\n",
       "      <td>163.0</td>\n",
       "      <td>10</td>\n",
       "      <td>37</td>\n",
       "      <td>457</td>\n",
       "      <td>8.0</td>\n",
       "      <td>2.400</td>\n",
       "      <td>125.0</td>\n",
       "      <td>TRUE</td>\n",
       "    </tr>\n",
       "    <tr>\n",
       "      <th>998</th>\n",
       "      <td>6.0</td>\n",
       "      <td>110.0</td>\n",
       "      <td>26</td>\n",
       "      <td>27</td>\n",
       "      <td>590</td>\n",
       "      <td>20.8</td>\n",
       "      <td>1.185</td>\n",
       "      <td>95.0</td>\n",
       "      <td>FALSE</td>\n",
       "    </tr>\n",
       "    <tr>\n",
       "      <th>1001</th>\n",
       "      <td>4.0</td>\n",
       "      <td>80.0</td>\n",
       "      <td>24</td>\n",
       "      <td>6</td>\n",
       "      <td>268</td>\n",
       "      <td>48.9</td>\n",
       "      <td>0.989</td>\n",
       "      <td>81.0</td>\n",
       "      <td>TRUE</td>\n",
       "    </tr>\n",
       "    <tr>\n",
       "      <th>1002</th>\n",
       "      <td>3.0</td>\n",
       "      <td>142.0</td>\n",
       "      <td>Error</td>\n",
       "      <td>10</td>\n",
       "      <td>299</td>\n",
       "      <td>4.8</td>\n",
       "      <td>2.411</td>\n",
       "      <td>71.0</td>\n",
       "      <td>TRUE</td>\n",
       "    </tr>\n",
       "  </tbody>\n",
       "</table>\n",
       "<p>836 rows × 9 columns</p>\n",
       "</div>"
      ],
      "text/plain": [
       "      Pregnancies  Glucose BloodPressure  SkinThickness  Insulin   BMI  \\\n",
       "0             3.0    167.0            39             28      545  53.0   \n",
       "1            13.0    151.0           107             38    10000   9.2   \n",
       "2             8.0     59.0           109             18      739  59.1   \n",
       "4            10.0    165.0            48             37      737  39.4   \n",
       "5          -100.0    142.0            88             39       82  42.7   \n",
       "...           ...      ...           ...            ...      ...   ...   \n",
       "996           6.0    117.0            91             28      212   1.0   \n",
       "997          13.0    163.0            10             37      457   8.0   \n",
       "998           6.0    110.0            26             27      590  20.8   \n",
       "1001          4.0     80.0            24              6      268  48.9   \n",
       "1002          3.0    142.0         Error             10      299   4.8   \n",
       "\n",
       "      DiabetesPedigreeFunction    Age Outcome  \n",
       "0                        2.447  125.0   FALSE  \n",
       "1                        0.507  148.0   FALSE  \n",
       "2                        1.769   91.0    TRUE  \n",
       "4                        0.729   73.0   FALSE  \n",
       "5                        1.369  148.0    TRUE  \n",
       "...                        ...    ...     ...  \n",
       "996                      1.969  137.0   FALSE  \n",
       "997                      2.400  125.0    TRUE  \n",
       "998                      1.185   95.0   FALSE  \n",
       "1001                     0.989   81.0    TRUE  \n",
       "1002                     2.411   71.0    TRUE  \n",
       "\n",
       "[836 rows x 9 columns]"
      ]
     },
     "metadata": {},
     "output_type": "display_data"
    }
   ],
   "source": [
    "display(df.drop_duplicates())"
   ]
  },
  {
   "cell_type": "markdown",
   "id": "3ea1e02e-27c3-4ce4-ad64-0659d5f52365",
   "metadata": {},
   "source": [
    "Question 3: Print out the number of rows in the dataframe\r\n"
   ]
  },
  {
   "cell_type": "code",
   "execution_count": 28,
   "id": "d980c74c-e1f1-443d-8bd8-f39ed8ed0b67",
   "metadata": {},
   "outputs": [
    {
     "name": "stdout",
     "output_type": "stream",
     "text": [
      "The DataFrame has 840 rows.\n"
     ]
    }
   ],
   "source": [
    "row_count = len(df)\n",
    "print(f'The DataFrame has {row_count} rows.')"
   ]
  },
  {
   "cell_type": "markdown",
   "id": "052eb706-5178-4b95-9c5d-afacb77fafde",
   "metadata": {},
   "source": [
    "Part 4: Mis-typed Columns/Broken Data"
   ]
  },
  {
   "cell_type": "markdown",
   "id": "1543b860-c3a1-40be-8b45-81f2107b5e6f",
   "metadata": {},
   "source": [
    "Question 1: In your Jupyter notebook, find the columns where most of the data seems to be one type of data, and there seems to be a data error. In the markdown, after exploring in code, add a markdown cell discussing which columns have the data error. "
   ]
  },
  {
   "cell_type": "code",
   "execution_count": null,
   "id": "86464df3-b6e8-4393-82ce-4ff7918edd65",
   "metadata": {},
   "outputs": [],
   "source": []
  }
 ],
 "metadata": {
  "kernelspec": {
   "display_name": "Python 3 (ipykernel)",
   "language": "python",
   "name": "python3"
  },
  "language_info": {
   "codemirror_mode": {
    "name": "ipython",
    "version": 3
   },
   "file_extension": ".py",
   "mimetype": "text/x-python",
   "name": "python",
   "nbconvert_exporter": "python",
   "pygments_lexer": "ipython3",
   "version": "3.11.7"
  }
 },
 "nbformat": 4,
 "nbformat_minor": 5
}
